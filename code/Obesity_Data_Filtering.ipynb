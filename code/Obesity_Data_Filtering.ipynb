{
 "cells": [
  {
   "cell_type": "code",
   "execution_count": null,
   "id": "0",
   "metadata": {},
   "outputs": [],
   "source": [
    "import pandas as pd\n",
    "import requests\n",
    "import time\n",
    "from glob import glob\n",
    "import numpy as np\n",
    "import os\n",
    "\n",
    "\n",
    "# Load all available indicators\n",
    "df = pd.read_csv('../data/who_obesity_data.csv')\n",
    "df.shape"
   ]
  },
  {
   "cell_type": "code",
   "execution_count": null,
   "id": "1",
   "metadata": {},
   "outputs": [],
   "source": [
    "df['TimeDim'].value_counts()\n"
   ]
  },
  {
   "cell_type": "code",
   "execution_count": null,
   "id": "2",
   "metadata": {},
   "outputs": [],
   "source": [
    "df = df[df['TimeDim'] == 2012]"
   ]
  },
  {
   "cell_type": "code",
   "execution_count": null,
   "id": "3",
   "metadata": {},
   "outputs": [],
   "source": [
    "df.shape"
   ]
  },
  {
   "cell_type": "code",
   "execution_count": null,
   "id": "4",
   "metadata": {},
   "outputs": [],
   "source": [
    "df.head()"
   ]
  },
  {
   "cell_type": "code",
   "execution_count": null,
   "id": "5",
   "metadata": {},
   "outputs": [],
   "source": [
    "df[df['IndicatorCode'] == 'NCD_BMI_30A']['SpatialDim'].value_counts()\n",
    "\n",
    "i"
   ]
  },
  {
   "cell_type": "code",
   "execution_count": null,
   "id": "6",
   "metadata": {},
   "outputs": [],
   "source": [
    "df['IndicatorCode'].value_counts()\n",
    "df= df[df['SpatialDimType' == 'COUNTRY']]\n",
    "df.info()\n",
    "\n",
    "# ...existing code...\n",
    "# Count records per IndicatorCode and SpatialDim and show top values\n",
    "df_group = df.groupby(['IndicatorCode', 'SpatialDim']).size().reset_index(name='Count')\n",
    "df_group = df_group.sort_values('Count', ascending=False)\n",
    "\n",
    "# Display Dim1 and Count (top 50)\n",
    "df_group[['IndicatorCode', 'SpatialDim', 'Count']].head(50)\n",
    "# ...existing code."
   ]
  },
  {
   "cell_type": "code",
   "execution_count": null,
   "id": "7",
   "metadata": {},
   "outputs": [],
   "source": [
    "df_group.head()"
   ]
  },
  {
   "cell_type": "code",
   "execution_count": null,
   "id": "8",
   "metadata": {},
   "outputs": [],
   "source": []
  }
 ],
 "metadata": {
  "kernelspec": {
   "display_name": "base",
   "language": "python",
   "name": "python3"
  },
  "language_info": {
   "codemirror_mode": {
    "name": "ipython",
    "version": 3
   },
   "file_extension": ".py",
   "mimetype": "text/x-python",
   "name": "python",
   "nbconvert_exporter": "python",
   "pygments_lexer": "ipython3",
   "version": "3.13.5"
  }
 },
 "nbformat": 4,
 "nbformat_minor": 5
}
