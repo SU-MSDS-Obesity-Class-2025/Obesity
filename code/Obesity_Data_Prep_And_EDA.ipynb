{
 "cells": [
  {
   "cell_type": "markdown",
   "id": "0",
   "metadata": {},
   "source": [
    "# Main Notebook for Obesity Data Analysis Project"
   ]
  }
 ],
 "metadata": {
  "language_info": {
   "name": "python"
  }
 },
 "nbformat": 4,
 "nbformat_minor": 5
}
